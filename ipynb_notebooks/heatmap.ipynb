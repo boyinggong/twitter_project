{
 "cells": [
  {
   "cell_type": "code",
   "execution_count": 1,
   "metadata": {
    "collapsed": true
   },
   "outputs": [],
   "source": [
    "#this is the file to play around with the timeline data stored in json format"
   ]
  },
  {
   "cell_type": "code",
   "execution_count": 2,
   "metadata": {
    "collapsed": false
   },
   "outputs": [],
   "source": [
    "%matplotlib inline\n",
    "import pandas as pd\n",
    "import json\n",
    "import matplotlib\n",
    "import seaborn as sns\n",
    "from matplotlib import pyplot as plt"
   ]
  },
  {
   "cell_type": "code",
   "execution_count": 3,
   "metadata": {
    "collapsed": false
   },
   "outputs": [],
   "source": [
    "#read in json file\n",
    "with open(\"../data/output_data/timelines/RevenantMovie.json\") as infile:\n",
    "    mydict=json.load(infile)"
   ]
  },
  {
   "cell_type": "code",
   "execution_count": 4,
   "metadata": {
    "collapsed": false
   },
   "outputs": [],
   "source": [
    "#create list of keys in dictionary\n",
    "keylist=[i for i in mydict[0]]"
   ]
  },
  {
   "cell_type": "code",
   "execution_count": 5,
   "metadata": {
    "collapsed": false
   },
   "outputs": [],
   "source": [
    "#create the dataframe\n",
    "def jsontodf(mydict):\n",
    "    interestlist=['id','created_at','text','retweet_count']\n",
    "    datalist=pd.DataFrame()\n",
    "    for i in interestlist:\n",
    "        datalist[i]=pd.Series([a[i] \n",
    "            #for littledict in mydict\n",
    "                #for a in littledict])\n",
    "                               for a in mydict])\n",
    "    datalist['hashtags']=pd.Series([a['entities']['hashtags'] \n",
    "        #for littledict in mydict\n",
    "            #for a in littledict])\n",
    "                                    for a in mydict])\n",
    "    return datalist"
   ]
  },
  {
   "cell_type": "code",
   "execution_count": 6,
   "metadata": {
    "collapsed": false
   },
   "outputs": [],
   "source": [
    "RevDF=jsontodf(mydict)\n"
   ]
  },
  {
   "cell_type": "code",
   "execution_count": 7,
   "metadata": {
    "collapsed": false
   },
   "outputs": [],
   "source": [
    "from datetime import datetime\n",
    "RevDt=[datetime.strptime(i,'%a %b %d %H:%M:%S %z %Y').timetuple() for i in RevDF['created_at'].tolist()]\n"
   ]
  },
  {
   "cell_type": "code",
   "execution_count": 19,
   "metadata": {
    "collapsed": false
   },
   "outputs": [
    {
     "data": {
      "text/plain": [
       "time.struct_time(tm_year=2016, tm_mon=1, tm_mday=31, tm_hour=16, tm_min=58, tm_sec=51, tm_wday=6, tm_yday=31, tm_isdst=-1)"
      ]
     },
     "execution_count": 19,
     "metadata": {},
     "output_type": "execute_result"
    }
   ],
   "source": [
    "RevDt[0]"
   ]
  },
  {
   "cell_type": "code",
   "execution_count": 28,
   "metadata": {
    "collapsed": false
   },
   "outputs": [],
   "source": [
    "wDay=pd.Series([a[6] for a in RevDt])\n",
    "hourDay=pd.Series([a[3] for a in RevDt])\n",
    "tcout=pd.Series([1 for a in RevDt])\n",
    "heatdata=pd.DataFrame()\n",
    "heatdata['day of the week']=wDay\n",
    "heatdata['Hour of the day']=hourDay\n",
    "heatdata['count']=tcout"
   ]
  },
  {
   "cell_type": "code",
   "execution_count": 47,
   "metadata": {
    "collapsed": false
   },
   "outputs": [
    {
     "data": {
      "text/plain": [
       "1"
      ]
     },
     "execution_count": 47,
     "metadata": {},
     "output_type": "execute_result"
    }
   ],
   "source": [
    "sum((heatdata['day of the week']==1) & (heatdata['Hour of the day']==1))"
   ]
  },
  {
   "cell_type": "code",
   "execution_count": null,
   "metadata": {
    "collapsed": false
   },
   "outputs": [],
   "source": []
  },
  {
   "cell_type": "code",
   "execution_count": 69,
   "metadata": {
    "collapsed": false
   },
   "outputs": [],
   "source": [
    "heatdf=pd.DataFrame()\n",
    "hour=pd.Series([0,1,2,3,4,5,6,7,8,9,10,11,12,13,14,15,16,17,18,19,20,21,22,23]*7)\n",
    "day=pd.Series([0]*24+[1]*24+[2]*24+[3]*24+[4]*24+[5]*24+[6]*24)\n",
    "heatdf['hour']=hour\n",
    "heatdf['day']=day\n",
    "        \n",
    "        "
   ]
  },
  {
   "cell_type": "code",
   "execution_count": 88,
   "metadata": {
    "collapsed": false
   },
   "outputs": [
    {
     "data": {
      "text/plain": [
       "6"
      ]
     },
     "execution_count": 88,
     "metadata": {},
     "output_type": "execute_result"
    }
   ],
   "source": [
    "heatdf['day'][167]"
   ]
  },
  {
   "cell_type": "code",
   "execution_count": 107,
   "metadata": {
    "collapsed": false
   },
   "outputs": [],
   "source": [
    "heatdf['count']=pd.Series(\n",
    "    [sum((heatdata['day of the week']==heatdf['day'][i])&(heatdata['Hour of the day']==heatdf['hour'][i]))\n",
    "     for i in range(len(heatdf))])"
   ]
  },
  {
   "cell_type": "code",
   "execution_count": 110,
   "metadata": {
    "collapsed": false
   },
   "outputs": [
    {
     "data": {
      "text/plain": [
       "<matplotlib.axes._subplots.AxesSubplot at 0x10bab8da0>"
      ]
     },
     "execution_count": 110,
     "metadata": {},
     "output_type": "execute_result"
    },
    {
     "data": {
      "image/png": "[encoded data removed]",
      "text/plain": [
       "<matplotlib.figure.Figure at 0x10babfdd8>"
      ]
     },
     "metadata": {},
     "output_type": "display_data"
    }
   ],
   "source": [
    "sns.set()\n",
    "\n",
    "# Load the example flights dataset and conver to long-form\n",
    "\n",
    "heatdf2 = heatdf.pivot(\"hour\", \"day\", \"count\")\n",
    "\n",
    "# Draw a heatmap with the numeric values in each cell\n",
    "sns.heatmap(heatdf2, annot=True, fmt=\"d\", linewidths=.5)"
   ]
  },
  {
   "cell_type": "code",
   "execution_count": null,
   "metadata": {
    "collapsed": true
   },
   "outputs": [],
   "source": []
  }
 ],
 "metadata": {
  "kernelspec": {
   "display_name": "Python 3",
   "language": "python",
   "name": "python3"
  },
  "language_info": {
   "codemirror_mode": {
    "name": "ipython",
    "version": 3
   },
   "file_extension": ".py",
   "mimetype": "text/x-python",
   "name": "python",
   "nbconvert_exporter": "python",
   "pygments_lexer": "ipython3",
   "version": "3.5.1"
  }
 },
 "nbformat": 4,
 "nbformat_minor": 0
}
