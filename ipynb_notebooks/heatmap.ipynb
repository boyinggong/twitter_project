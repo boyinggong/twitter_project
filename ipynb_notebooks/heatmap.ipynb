{
 "cells": [
  {
   "cell_type": "code",
   "execution_count": 1,
   "metadata": {
    "collapsed": true
   },
   "outputs": [],
   "source": [
    "#this is the file to play around with the timeline data stored in json format"
   ]
  },
  {
   "cell_type": "code",
   "execution_count": 101,
   "metadata": {
    "collapsed": false
   },
   "outputs": [],
   "source": [
    "%matplotlib inline\n",
    "import pandas as pd\n",
    "import json\n",
    "import matplotlib\n",
    "import seaborn as sns\n",
    "from matplotlib import pyplot as plt\n",
    "from numpy import log"
   ]
  },
  {
   "cell_type": "code",
   "execution_count": 73,
   "metadata": {
    "collapsed": false
   },
   "outputs": [],
   "source": [
    "#read in json file\n",
    "with open(\"../data/output_data/timelines/LeoDiCaprio.json\") as infile:\n",
    "    mydict=json.load(infile)"
   ]
  },
  {
   "cell_type": "code",
   "execution_count": 74,
   "metadata": {
    "collapsed": false
   },
   "outputs": [],
   "source": [
    "#create list of keys in dictionary\n",
    "keylist=[i for i in mydict[0]]"
   ]
  },
  {
   "cell_type": "code",
   "execution_count": 75,
   "metadata": {
    "collapsed": false
   },
   "outputs": [],
   "source": [
    "#create the dataframe\n",
    "def jsontodf(mydict):\n",
    "    interestlist=['id','created_at','text','retweet_count']\n",
    "    datalist=pd.DataFrame()\n",
    "    for i in interestlist:\n",
    "        datalist[i]=pd.Series([a[i] \n",
    "            #for littledict in mydict\n",
    "                #for a in littledict])\n",
    "                               for a in mydict])\n",
    "    datalist['hashtags']=pd.Series([a['entities']['hashtags'] \n",
    "        #for littledict in mydict\n",
    "            #for a in littledict])\n",
    "                                    for a in mydict])\n",
    "    return datalist"
   ]
  },
  {
   "cell_type": "code",
   "execution_count": 76,
   "metadata": {
    "collapsed": false
   },
   "outputs": [],
   "source": [
    "RevDF=jsontodf(mydict)\n"
   ]
  },
  {
   "cell_type": "code",
   "execution_count": 77,
   "metadata": {
    "collapsed": false
   },
   "outputs": [],
   "source": [
    "from datetime import datetime\n",
    "RevDt=[datetime.strptime(i,'%a %b %d %H:%M:%S %z %Y').timetuple() for i in RevDF['created_at'].tolist()]\n"
   ]
  },
  {
   "cell_type": "code",
   "execution_count": 78,
   "metadata": {
    "collapsed": false
   },
   "outputs": [
    {
     "data": {
      "text/plain": [
       "time.struct_time(tm_year=2016, tm_mon=1, tm_mday=30, tm_hour=17, tm_min=2, tm_sec=55, tm_wday=5, tm_yday=30, tm_isdst=-1)"
      ]
     },
     "execution_count": 78,
     "metadata": {},
     "output_type": "execute_result"
    }
   ],
   "source": [
    "RevDt[0]"
   ]
  },
  {
   "cell_type": "code",
   "execution_count": 79,
   "metadata": {
    "collapsed": false
   },
   "outputs": [],
   "source": [
    "wDay=pd.Series([a[6] for a in RevDt])\n",
    "hourDay=pd.Series([a[3] for a in RevDt])\n",
    "tcout=pd.Series([1 for a in RevDt])\n",
    "heatdata=pd.DataFrame()\n",
    "heatdata['day of the week']=wDay\n",
    "heatdata['Hour of the day']=hourDay\n",
    "heatdata['count']=tcout"
   ]
  },
  {
   "cell_type": "code",
   "execution_count": 80,
   "metadata": {
    "collapsed": false
   },
   "outputs": [
    {
     "data": {
      "text/plain": [
       "1"
      ]
     },
     "execution_count": 80,
     "metadata": {},
     "output_type": "execute_result"
    }
   ],
   "source": [
    "sum((heatdata['day of the week']==1) & (heatdata['Hour of the day']==1))"
   ]
  },
  {
   "cell_type": "code",
   "execution_count": null,
   "metadata": {
    "collapsed": false
   },
   "outputs": [],
   "source": []
  },
  {
   "cell_type": "code",
   "execution_count": 81,
   "metadata": {
    "collapsed": false
   },
   "outputs": [],
   "source": [
    "heatdf=pd.DataFrame()\n",
    "hour=pd.Series([0,1,2,3,4,5,6,7,8,9,10,11,12,13,14,15,16,17,18,19,20,21,22,23]*7)\n",
    "day=pd.Series([0]*24+[1]*24+[2]*24+[3]*24+[4]*24+[5]*24+[6]*24)\n",
    "heatdf['hour']=hour\n",
    "heatdf['day']=day\n",
    "        \n",
    "        "
   ]
  },
  {
   "cell_type": "code",
   "execution_count": 82,
   "metadata": {
    "collapsed": false
   },
   "outputs": [
    {
     "data": {
      "text/plain": [
       "6"
      ]
     },
     "execution_count": 82,
     "metadata": {},
     "output_type": "execute_result"
    }
   ],
   "source": [
    "heatdf['day'][167]"
   ]
  },
  {
   "cell_type": "code",
   "execution_count": 83,
   "metadata": {
    "collapsed": false
   },
   "outputs": [],
   "source": [
    "heatdf['count']=pd.Series(\n",
    "    [sum((heatdata['day of the week']==heatdf['day'][i])&(heatdata['Hour of the day']==heatdf['hour'][i]))\n",
    "     for i in range(len(heatdf))])"
   ]
  },
  {
   "cell_type": "code",
   "execution_count": 96,
   "metadata": {
    "collapsed": false
   },
   "outputs": [
    {
     "data": {
      "text/plain": [
       "<module 'seaborn' from '/Users/jianglonghuang/anaconda/envs/py3sci_STAT222/lib/python3.5/site-packages/seaborn/__init__.py'>"
      ]
     },
     "execution_count": 96,
     "metadata": {},
     "output_type": "execute_result"
    },
    {
     "data": {
      "image/png": "[encoded data removed]",
      "text/plain": [
       "<matplotlib.figure.Figure at 0x10bba9320>"
      ]
     },
     "metadata": {},
     "output_type": "display_data"
    }
   ],
   "source": [
    "sns.set()\n",
    "\n",
    "# Load the example flights dataset and conver to long-form\n",
    "\n",
    "heatdf2 = heatdf.pivot(\"hour\", \"day\", \"count\")\n",
    "\n",
    "# Draw a heatmap with the numeric values in each cell\n",
    "sns.heatmap(heatdf2, annot=True, fmt=\"d\", linewidths=.5)\n",
    "sns"
   ]
  },
  {
   "cell_type": "code",
   "execution_count": 85,
   "metadata": {
    "collapsed": false
   },
   "outputs": [],
   "source": [
    "date=[a[7]+(a[0]-2015)*365 for a in RevDt]\n"
   ]
  },
  {
   "cell_type": "code",
   "execution_count": 113,
   "metadata": {
    "collapsed": false
   },
   "outputs": [
    {
     "ename": "AttributeError",
     "evalue": "'time.struct_time' object has no attribute 'date'",
     "output_type": "error",
     "traceback": [
      "\u001b[0;31m---------------------------------------------------------------------------\u001b[0m",
      "\u001b[0;31mAttributeError\u001b[0m                            Traceback (most recent call last)",
      "\u001b[0;32m<ipython-input-113-e4039041d0cb>\u001b[0m in \u001b[0;36m<module>\u001b[0;34m()\u001b[0m\n\u001b[0;32m----> 1\u001b[0;31m \u001b[0mtype\u001b[0m\u001b[0;34m(\u001b[0m\u001b[0mRevDt\u001b[0m\u001b[0;34m[\u001b[0m\u001b[0;36m1\u001b[0m\u001b[0;34m]\u001b[0m\u001b[0;34m.\u001b[0m\u001b[0mdate\u001b[0m\u001b[0;34m(\u001b[0m\u001b[0;34m)\u001b[0m\u001b[0;34m)\u001b[0m\u001b[0;34m\u001b[0m\u001b[0m\n\u001b[0m",
      "\u001b[0;31mAttributeError\u001b[0m: 'time.struct_time' object has no attribute 'date'"
     ]
    }
   ],
   "source": []
  },
  {
   "cell_type": "code",
   "execution_count": 108,
   "metadata": {
    "collapsed": false
   },
   "outputs": [
    {
     "data": {
      "text/plain": [
       "(4, 10)"
      ]
     },
     "execution_count": 108,
     "metadata": {},
     "output_type": "execute_result"
    },
    {
     "data": {
      "image/png": "[encoded data removed]",
      "text/plain": [
       "<matplotlib.figure.Figure at 0x10c5c1358>"
      ]
     },
     "metadata": {},
     "output_type": "display_data"
    }
   ],
   "source": [
    "plt.plot(date, log(RevDF['retweet_count']))\n",
    "plt.xlim((0,400))\n",
    "plt.ylim((4,10))"
   ]
  },
  {
   "cell_type": "code",
   "execution_count": 88,
   "metadata": {
    "collapsed": false
   },
   "outputs": [],
   "source": [
    "def utcoffsetcovert(utc_offset):\n",
    "    offset=abs(utc_offset)\n",
    "    hour=str(offset//3600)\n",
    "    if len(hour)==1:\n",
    "        hour=str(0)+hour\n",
    "        \n",
    "    minute=str(offset%3600//60)\n",
    "    if len(minute)==1:\n",
    "        minute=str(0)+minute\n",
    "        \n",
    "    if utc_offset>=0:\n",
    "        sign=\"+\"\n",
    "    else:\n",
    "        sign='-'\n",
    "        \n",
    "    HHMM=sign+hour+minute\n",
    "    return HHMM\n",
    "\n"
   ]
  },
  {
   "cell_type": "code",
   "execution_count": 93,
   "metadata": {
    "collapsed": false
   },
   "outputs": [
    {
     "data": {
      "text/plain": [
       "'-0800'"
      ]
     },
     "execution_count": 93,
     "metadata": {},
     "output_type": "execute_result"
    }
   ],
   "source": [
    "utcoffsetcovert(mydict[10]['user']['utc_offset'])"
   ]
  },
  {
   "cell_type": "code",
   "execution_count": null,
   "metadata": {
    "collapsed": true
   },
   "outputs": [],
   "source": []
  }
 ],
 "metadata": {
  "kernelspec": {
   "display_name": "Python 3",
   "language": "python",
   "name": "python3"
  },
  "language_info": {
   "codemirror_mode": {
    "name": "ipython",
    "version": 3
   },
   "file_extension": ".py",
   "mimetype": "text/x-python",
   "name": "python",
   "nbconvert_exporter": "python",
   "pygments_lexer": "ipython3",
   "version": "3.5.1"
  }
 },
 "nbformat": 4,
 "nbformat_minor": 0
}
