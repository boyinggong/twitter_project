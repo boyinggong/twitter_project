{
 "cells": [
  {
   "cell_type": "code",
   "execution_count": 1,
   "metadata": {
    "collapsed": true
   },
   "outputs": [],
   "source": [
    "import json\n",
    "import twitter\n",
    "import pandas as pd"
   ]
  },
  {
   "cell_type": "code",
   "execution_count": 2,
   "metadata": {
    "collapsed": true
   },
   "outputs": [],
   "source": [
    "# You will need to set the following variables with your\n",
    "# personal information.  To do this you will need to create\n",
    "# a personal account on Twitter (if you don't already have\n",
    "# one).  Once you've created an account, create a new\n",
    "# application here:\n",
    "#    https://dev.twitter.com/apps\n",
    "#\n",
    "# You can manage your applications here:\n",
    "#    https://apps.twitter.com/\n",
    "#\n",
    "# Select your application and then under the section labeled\n",
    "# \"Key and Access Tokens\", you will find the information needed\n",
    "# below.  Keep this information private.\n",
    "CONSUMER_KEY       = \"Fo3zBsDzYkgJswA5Enn9L2hcR\"\n",
    "CONSUMER_SECRET    = \"JcN1kOm1uXC0u3U4BBN6Y6Kc452qCE17LTWps1vkfGd9ZvyFJk\"\n",
    "OAUTH_TOKEN        = \"315778828-E9zzE6i87aUREHpkXZB6ldxsnOLRT8WOrtbadL5a\"\n",
    "OAUTH_TOKEN_SECRET = \"VecnqjlDK2SI9FQd2DsK90inuifKkrgRZvUvaV24oZCmd\"\n",
    "\n",
    "auth = twitter.oauth.OAuth(OAUTH_TOKEN, OAUTH_TOKEN_SECRET,\n",
    "                           CONSUMER_KEY, CONSUMER_SECRET)\n",
    "api = twitter.Twitter(auth=auth)"
   ]
  },
  {
   "cell_type": "code",
   "execution_count": 3,
   "metadata": {
    "collapsed": true
   },
   "outputs": [],
   "source": [
    "auth = twitter.oauth.OAuth(OAUTH_TOKEN, OAUTH_TOKEN_SECRET,\n",
    "                           CONSUMER_KEY, CONSUMER_SECRET)\n",
    "api = twitter.Twitter(auth=auth)"
   ]
  },
  {
   "cell_type": "code",
   "execution_count": 16,
   "metadata": {
    "collapsed": true
   },
   "outputs": [],
   "source": [
    "golden_globe_nominees = pd.read_csv(\"../data/input_data/golden_globes_metadata/nominees-spreadsheet-01-30.csv\")"
   ]
  },
  {
   "cell_type": "code",
   "execution_count": 33,
   "metadata": {
    "collapsed": false
   },
   "outputs": [],
   "source": [
    "# Filter out \n",
    "tv_gg_nominees_twitter_names = list(golden_globe_nominees[golden_globe_nominees.TWITTER_SCREEN_NAME.notnull()].TWITTER_SCREEN_NAME)"
   ]
  },
  {
   "cell_type": "code",
   "execution_count": 38,
   "metadata": {
    "collapsed": false
   },
   "outputs": [
    {
     "data": {
      "text/plain": [
       "['ItsRamiMalek',\n",
       " 'mrbobodenkirk',\n",
       " 'LievSchreiber',\n",
       " 'caitrionambalfe',\n",
       " 'violadavis',\n",
       " 'TherealTaraji',\n",
       " 'realrobinwright',\n",
       " 'azizansari',\n",
       " 'RobLowe',\n",
       " 'SirPatStew',\n",
       " 'jeffreytambor',\n",
       " 'Racheldoesstuff',\n",
       " 'amieleecurtis',\n",
       " 'OfficialJLD',\n",
       " 'HereIsGina',\n",
       " 'LilyTomlin',\n",
       " 'idriselba',\n",
       " 'patrickwilson73',\n",
       " 'kirstendunst',\n",
       " 'ladygaga',\n",
       " 'SarahEllenHay',\n",
       " 'FelicityHuffman',\n",
       " 'IAMQUEENLATIFAH',\n",
       " 'Alancumming',\n",
       " 'TobiasMenzies',\n",
       " 'ChristianSlater',\n",
       " 'UzoAduba',\n",
       " 'JoFroggatt',\n",
       " 'ReginaKing',\n",
       " 'JudithLight']"
      ]
     },
     "execution_count": 38,
     "metadata": {},
     "output_type": "execute_result"
    }
   ],
   "source": [
    "# List of twitter screen names of Golden Globe 2016 nominees\n",
    "tv_gg_nominees_twitter_names"
   ]
  },
  {
   "cell_type": "code",
   "execution_count": 40,
   "metadata": {
    "collapsed": true
   },
   "outputs": [],
   "source": [
    "# Just pick out the first 5 handles\n",
    "tv_gg_nominees_twitter_names_short = tv_gg_nominees_twitter_names[0:6]"
   ]
  },
  {
   "cell_type": "code",
   "execution_count": 41,
   "metadata": {
    "collapsed": false
   },
   "outputs": [],
   "source": [
    "# Download the data for the TV twitter nominees\n",
    "timelines = [api.statuses.user_timeline(screen_name=name)\n",
    "                  for name in tv_gg_nominees_twitter_names_short]"
   ]
  },
  {
   "cell_type": "code",
   "execution_count": 42,
   "metadata": {
    "collapsed": true
   },
   "outputs": [],
   "source": [
    "# Write out the twitter feed to a JSON file\n",
    "with open(\"timelines_golden_globes_tv_short.json\", \"w\") as f:\n",
    "    json.dump(timelines, f, indent=4, sort_keys=True)"
   ]
  },
  {
   "cell_type": "code",
   "execution_count": 43,
   "metadata": {
    "collapsed": true
   },
   "outputs": [],
   "source": [
    "# Read in the the twitter feed as \"timelines\"\n",
    "with open(\"./timelines_golden_globes_tv_short.json\", \"r\") as f:\n",
    "    timelines = json.load(f)\n",
    "f.close()"
   ]
  },
  {
   "cell_type": "code",
   "execution_count": 50,
   "metadata": {
    "collapsed": false
   },
   "outputs": [
    {
     "data": {
      "text/plain": [
       "[('ItsRamiMalek', 133679),\n",
       " ('mrbobodenkirk', 380759),\n",
       " ('LievSchreiber', 96960),\n",
       " ('caitrionambalfe', 143222),\n",
       " ('violadavis', 317352),\n",
       " ('TherealTaraji', 3940597)]"
      ]
     },
     "execution_count": 50,
     "metadata": {},
     "output_type": "execute_result"
    }
   ],
   "source": [
    "# For each user create a list of tuples with their follower count as a check\n",
    "follower_count = [t[0][\"user\"][\"followers_count\"] for t in timelines]\n",
    "followers      = list(zip(tv_gg_nominees_twitter_names_short, follower_count))\n",
    "followers"
   ]
  }
 ],
 "metadata": {
  "kernelspec": {
   "display_name": "Python 3",
   "language": "python",
   "name": "python3"
  },
  "language_info": {
   "codemirror_mode": {
    "name": "ipython",
    "version": 3
   },
   "file_extension": ".py",
   "mimetype": "text/x-python",
   "name": "python",
   "nbconvert_exporter": "python",
   "pygments_lexer": "ipython3",
   "version": "3.5.1"
  }
 },
 "nbformat": 4,
 "nbformat_minor": 0
}
