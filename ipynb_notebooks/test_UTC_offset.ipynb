{
 "cells": [
  {
   "cell_type": "code",
   "execution_count": 13,
   "metadata": {
    "collapsed": false
   },
   "outputs": [],
   "source": [
    "import json\n",
    "import pandas as pd\n",
    "from datetime import datetime\n",
    "import sys\n",
    "sys.path.append('../')\n",
    "sys.path\n",
    "from create_timelines_dataset import create_twitter_timeline_DataFrame, concatenate_all_twitter_timelines\n",
    "from time_functions import utc_offset_convert\n",
    "import re"
   ]
  },
  {
   "cell_type": "code",
   "execution_count": 3,
   "metadata": {
    "collapsed": true
   },
   "outputs": [],
   "source": [
    "# Load a single user twitter timeline (already downloaded as a json object)\n",
    "with open(\"../data/output_data/timelines/BryanCranston.json\", \"r\") as f:\n",
    "    timelines = json.load(f)"
   ]
  },
  {
   "cell_type": "code",
   "execution_count": 8,
   "metadata": {
    "collapsed": false
   },
   "outputs": [
    {
     "data": {
      "text/plain": [
       "['Fri Jan 29 20:06:12 +0000 2016',\n",
       " 'Fri Jan 29 15:22:20 +0000 2016',\n",
       " 'Tue Jan 26 00:50:47 +0000 2016',\n",
       " 'Wed Jan 06 16:44:09 +0000 2016',\n",
       " 'Tue Dec 29 02:04:25 +0000 2015',\n",
       " 'Tue Dec 29 01:55:44 +0000 2015',\n",
       " 'Fri Dec 18 04:06:00 +0000 2015',\n",
       " 'Thu Dec 10 18:16:21 +0000 2015',\n",
       " 'Thu Dec 10 00:49:33 +0000 2015',\n",
       " 'Wed Dec 09 16:36:47 +0000 2015',\n",
       " 'Fri Nov 20 06:04:48 +0000 2015']"
      ]
     },
     "execution_count": 8,
     "metadata": {},
     "output_type": "execute_result"
    }
   ],
   "source": [
    "# Get the time variable for each tweet as a list\n",
    "tweet_created_at                 = [tweet[\"created_at\"] for tweet in timelines]\n",
    "tweet_created_at[0:11]"
   ]
  },
  {
   "cell_type": "code",
   "execution_count": 35,
   "metadata": {
    "collapsed": false
   },
   "outputs": [],
   "source": [
    "# Get the UTC offset as a list\n",
    "tweet_user_utc_offset                           = [tweet[\"user\"][\"utc_offset\"] for tweet in timelines]\n",
    "\n",
    "# Regex define the UTC+0000 time that we wish to replace\n",
    "UTC_0000 = re.compile(u'(\\+0{4})')\n",
    "\n",
    "tweet_created_at_UTC_offset = [re.sub(pattern = UTC_0000\n",
    "                                      , repl = str(utc_offset)\n",
    "                                      , string = str(orig_utc_string)) \n",
    "                               for utc_offset in tweet_user_utc_offset\n",
    "                               for orig_utc_string in tweet_created_at               \n",
    "                              ]"
   ]
  },
  {
   "cell_type": "code",
   "execution_count": 22,
   "metadata": {
    "collapsed": false
   },
   "outputs": [
    {
     "data": {
      "text/plain": [
       "['+0000']"
      ]
     },
     "execution_count": 22,
     "metadata": {},
     "output_type": "execute_result"
    }
   ],
   "source": [
    "p = re.compile(u'(\\+0{4})')\n",
    "test_str = u\"+0000 hahaha\"\n",
    "repl_str = str(tweet_user_utc_offset[0])\n",
    "re.findall(p, test_str)"
   ]
  },
  {
   "cell_type": "code",
   "execution_count": 23,
   "metadata": {
    "collapsed": false
   },
   "outputs": [
    {
     "data": {
      "text/plain": [
       "'-28800 hahaha'"
      ]
     },
     "execution_count": 23,
     "metadata": {},
     "output_type": "execute_result"
    }
   ],
   "source": [
    "re.sub(pattern = p, repl = repl_str, string = test_str)"
   ]
  },
  {
   "cell_type": "code",
   "execution_count": 30,
   "metadata": {
    "collapsed": false
   },
   "outputs": [
    {
     "data": {
      "text/plain": [
       "'Fri Jan 29 20:06:12 -28800 2016'"
      ]
     },
     "execution_count": 30,
     "metadata": {},
     "output_type": "execute_result"
    }
   ],
   "source": [
    "orig_utc_string  = str(tweet_created_at[0])\n",
    "re.sub(pattern = p\n",
    "       , repl = str(tweet_user_utc_offset[0])\n",
    "       , string = str(orig_utc_string))"
   ]
  },
  {
   "cell_type": "code",
   "execution_count": 29,
   "metadata": {
    "collapsed": false
   },
   "outputs": [
    {
     "data": {
      "text/plain": [
       "'Fri Jan 29 20:06:12 +0000 2016'"
      ]
     },
     "execution_count": 29,
     "metadata": {},
     "output_type": "execute_result"
    }
   ],
   "source": [
    "orig_utc_string  = str(tweet_created_at[0])\n",
    "orig_utc_string"
   ]
  },
  {
   "cell_type": "code",
   "execution_count": null,
   "metadata": {
    "collapsed": true
   },
   "outputs": [],
   "source": []
  }
 ],
 "metadata": {
  "kernelspec": {
   "display_name": "Python 3",
   "language": "python",
   "name": "python3"
  },
  "language_info": {
   "codemirror_mode": {
    "name": "ipython",
    "version": 3
   },
   "file_extension": ".py",
   "mimetype": "text/x-python",
   "name": "python",
   "nbconvert_exporter": "python",
   "pygments_lexer": "ipython3",
   "version": "3.5.1"
  }
 },
 "nbformat": 4,
 "nbformat_minor": 0
}
