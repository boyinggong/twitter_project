{
 "cells": [
  {
   "cell_type": "code",
   "execution_count": 27,
   "metadata": {
    "collapsed": false
   },
   "outputs": [],
   "source": [
    "import json\n",
    "import twitter"
   ]
  },
  {
   "cell_type": "code",
   "execution_count": 28,
   "metadata": {
    "collapsed": true
   },
   "outputs": [],
   "source": [
    "CONSUMER_KEY       = \"LMO6LXCAjzqF0DwO44YNX5PaY\"\n",
    "CONSUMER_SECRET    = \"TjmAEUqteMieEAIYVO9VtINBbiNYAHqJr6aEJoUnvIeG3fEKUm\"\n",
    "OAUTH_TOKEN        = \"1601903166-8wmp5Ml0zzRdfZzFHtUkUwXTCbsbOdoZYQWWH9u\"\n",
    "OAUTH_TOKEN_SECRET = \"Z5gC9jXyHw2LBTIC762jTtUfvT3DEjcHZCDUZfISfOA2N\"\n",
    "\n",
    "auth = twitter.oauth.OAuth(OAUTH_TOKEN, OAUTH_TOKEN_SECRET,\n",
    "                           CONSUMER_KEY, CONSUMER_SECRET)\n",
    "api = twitter.Twitter(auth=auth)\n",
    "\n",
    "# get the list\n",
    "nyfcc_members_list = api.lists.members(owner_screen_name=\"nyfcc\", \n",
    "                             slug=\"nyfcc-members\",\n",
    "                             count=100)\n",
    "with open(\"list/FILM-nyfcc-members-list.json\", \"w\") as f:\n",
    "    json.dump(nyfcc_members_list, f, indent=4, sort_keys=True)"
   ]
  },
  {
   "cell_type": "code",
   "execution_count": 29,
   "metadata": {
    "collapsed": true
   },
   "outputs": [],
   "source": [
    "# get the list\n",
    "CriticsChoice_list = api.lists.members(owner_screen_name=\"CriticsChoice\", \n",
    "                             slug=\"bfca\",\n",
    "                             count=100)\n",
    "with open(\"list/FILM-CriticsChoice_list.json\", \"w\") as f:\n",
    "    json.dump(CriticsChoice_list, f, indent=4, sort_keys=True)"
   ]
  },
  {
   "cell_type": "code",
   "execution_count": 30,
   "metadata": {
    "collapsed": false
   },
   "outputs": [
    {
     "data": {
      "text/plain": [
       "100"
      ]
     },
     "execution_count": 30,
     "metadata": {},
     "output_type": "execute_result"
    }
   ],
   "source": [
    "len(CriticsChoice_list[\"users\"])"
   ]
  },
  {
   "cell_type": "code",
   "execution_count": 31,
   "metadata": {
    "collapsed": false
   },
   "outputs": [],
   "source": [
    "# get the list\n",
    "BFI_list = api.lists.members(owner_screen_name=\"BFI\", \n",
    "                             slug=\"Film-critics-press\",\n",
    "                             count=100)\n",
    "with open(\"list/FILM-BFI_list.json\", \"w\") as f:\n",
    "    json.dump(BFI_list, f, indent=4, sort_keys=True)"
   ]
  },
  {
   "cell_type": "code",
   "execution_count": 32,
   "metadata": {
    "collapsed": false
   },
   "outputs": [
    {
     "data": {
      "text/plain": [
       "85"
      ]
     },
     "execution_count": 32,
     "metadata": {},
     "output_type": "execute_result"
    }
   ],
   "source": [
    "len(BFI_list[\"users\"])"
   ]
  },
  {
   "cell_type": "code",
   "execution_count": 33,
   "metadata": {
    "collapsed": true
   },
   "outputs": [],
   "source": [
    "# get the list\n",
    "AnnuSeries_list = api.lists.members(owner_screen_name=\"AnnuSeries\", \n",
    "                             slug=\"TV-critics\",\n",
    "                             count=100)\n",
    "with open(\"list/TV_AnnuSeries_list.json\", \"w\") as f:\n",
    "    json.dump(AnnuSeries_list, f, indent=4, sort_keys=True)"
   ]
  },
  {
   "cell_type": "code",
   "execution_count": null,
   "metadata": {
    "collapsed": true
   },
   "outputs": [],
   "source": []
  },
  {
   "cell_type": "code",
   "execution_count": 34,
   "metadata": {
    "collapsed": true
   },
   "outputs": [],
   "source": [
    "# get the list\n",
    "Salon_list = api.lists.members(owner_screen_name=\"Salon\", \n",
    "                             slug=\"Blue-Glow-TV-Critics\",\n",
    "                             count=100)\n",
    "with open(\"list/TV_Salon_list.json\", \"w\") as f:\n",
    "    json.dump(Salon_list, f, indent=4, sort_keys=True)"
   ]
  },
  {
   "cell_type": "code",
   "execution_count": null,
   "metadata": {
    "collapsed": true
   },
   "outputs": [],
   "source": []
  },
  {
   "cell_type": "code",
   "execution_count": 35,
   "metadata": {
    "collapsed": false
   },
   "outputs": [],
   "source": [
    "# get the list\n",
    "MarkRosch_list = api.lists.members(owner_screen_name=\"MarkRosch\", \n",
    "                             slug=\"TV-Critics-News\",\n",
    "                             count=100)\n",
    "with open(\"list/TV_MarkRosch_list.json\", \"w\") as f:\n",
    "    json.dump(MarkRosch_list, f, indent=4, sort_keys=True)"
   ]
  },
  {
   "cell_type": "code",
   "execution_count": 36,
   "metadata": {
    "collapsed": true
   },
   "outputs": [],
   "source": [
    "# get the list\n",
    "realityblurred_list = api.lists.members(owner_screen_name=\"realityblurred\", \n",
    "                             slug=\"tv-critics\",\n",
    "                             count=100)\n",
    "with open(\"list/TV_realityblurred_list.json\", \"w\") as f:\n",
    "    json.dump(realityblurred_list, f, indent=4, sort_keys=True)"
   ]
  },
  {
   "cell_type": "code",
   "execution_count": null,
   "metadata": {
    "collapsed": true
   },
   "outputs": [],
   "source": []
  },
  {
   "cell_type": "code",
   "execution_count": 37,
   "metadata": {
    "collapsed": false
   },
   "outputs": [
    {
     "ename": "NameError",
     "evalue": "name 'senators' is not defined",
     "output_type": "error",
     "traceback": [
      "\u001b[0;31m---------------------------------------------------------------------------\u001b[0m",
      "\u001b[0;31mNameError\u001b[0m                                 Traceback (most recent call last)",
      "\u001b[0;32m<ipython-input-37-535105931c9d>\u001b[0m in \u001b[0;36m<module>\u001b[0;34m()\u001b[0m\n\u001b[1;32m      1\u001b[0m \u001b[0;31m# get all the senators' timelines\u001b[0m\u001b[0;34m\u001b[0m\u001b[0;34m\u001b[0m\u001b[0m\n\u001b[0;32m----> 2\u001b[0;31m \u001b[0mnames\u001b[0m \u001b[0;34m=\u001b[0m \u001b[0;34m[\u001b[0m\u001b[0md\u001b[0m\u001b[0;34m[\u001b[0m\u001b[0;34m\"screen_name\"\u001b[0m\u001b[0;34m]\u001b[0m \u001b[0;32mfor\u001b[0m \u001b[0md\u001b[0m \u001b[0;32min\u001b[0m \u001b[0msenators\u001b[0m\u001b[0;34m[\u001b[0m\u001b[0;34m\"users\"\u001b[0m\u001b[0;34m]\u001b[0m\u001b[0;34m]\u001b[0m\u001b[0;34m\u001b[0m\u001b[0m\n\u001b[0m\u001b[1;32m      3\u001b[0m timelines = [api.statuses.user_timeline(screen_name=name)\n\u001b[1;32m      4\u001b[0m                   for name in names]\n\u001b[1;32m      5\u001b[0m \u001b[0;32mwith\u001b[0m \u001b[0mopen\u001b[0m\u001b[0;34m(\u001b[0m\u001b[0;34m\"timelines.json\"\u001b[0m\u001b[0;34m,\u001b[0m \u001b[0;34m\"w\"\u001b[0m\u001b[0;34m)\u001b[0m \u001b[0;32mas\u001b[0m \u001b[0mf\u001b[0m\u001b[0;34m:\u001b[0m\u001b[0;34m\u001b[0m\u001b[0m\n",
      "\u001b[0;31mNameError\u001b[0m: name 'senators' is not defined"
     ]
    }
   ],
   "source": [
    "# get all the senators' timelines\n",
    "names = [d[\"screen_name\"] for d in senators[\"users\"]]\n",
    "timelines = [api.statuses.user_timeline(screen_name=name)\n",
    "                  for name in names]\n",
    "with open(\"timelines.json\", \"w\") as f:\n",
    "    json.dump(timelines, f, indent=4, sort_keys=True)"
   ]
  },
  {
   "cell_type": "code",
   "execution_count": null,
   "metadata": {
    "collapsed": true
   },
   "outputs": [],
   "source": []
  }
 ],
 "metadata": {
  "kernelspec": {
   "display_name": "Python 3",
   "language": "python",
   "name": "python3"
  },
  "language_info": {
   "codemirror_mode": {
    "name": "ipython",
    "version": 3
   },
   "file_extension": ".py",
   "mimetype": "text/x-python",
   "name": "python",
   "nbconvert_exporter": "python",
   "pygments_lexer": "ipython3",
   "version": "3.5.1"
  }
 },
 "nbformat": 4,
 "nbformat_minor": 0
}
