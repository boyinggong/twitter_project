{
 "cells": [
  {
   "cell_type": "code",
   "execution_count": 4,
   "metadata": {
    "collapsed": false
   },
   "outputs": [],
   "source": [
    "import json\n",
    "import pandas as pd\n",
    "from datetime import datetime\n",
    "import sys\n",
    "sys.path.append('../')\n",
    "#from create_timelines_dataset import create_twitter_timeline_DataFrame, concatenate_all_twitter_timelines\n",
    "#from time_functions import creutc_offset_convert"
   ]
  },
  {
   "cell_type": "code",
   "execution_count": 17,
   "metadata": {
    "collapsed": true
   },
   "outputs": [],
   "source": [
    "# Load a single user twitter timeline (already downloaded as a json object)\n",
    "with open(\"../data/output_data/following_metadata/Alancumming.json\", \"r\") as f:\n",
    "    following = json.load(f)"
   ]
  },
  {
   "cell_type": "code",
   "execution_count": 18,
   "metadata": {
    "collapsed": false
   },
   "outputs": [
    {
     "data": {
      "text/plain": [
       "3"
      ]
     },
     "execution_count": 18,
     "metadata": {},
     "output_type": "execute_result"
    }
   ],
   "source": [
    "len(following)"
   ]
  },
  {
   "cell_type": "code",
   "execution_count": 19,
   "metadata": {
    "collapsed": false
   },
   "outputs": [
    {
     "data": {
      "text/plain": [
       "100"
      ]
     },
     "execution_count": 19,
     "metadata": {},
     "output_type": "execute_result"
    }
   ],
   "source": [
    "len(following[0])"
   ]
  },
  {
   "cell_type": "code",
   "execution_count": 22,
   "metadata": {
    "collapsed": false
   },
   "outputs": [
    {
     "data": {
      "text/plain": [
       "['description',\n",
       " 'verified',\n",
       " 'default_profile',\n",
       " 'status',\n",
       " 'protected',\n",
       " 'id_str',\n",
       " 'location',\n",
       " 'lang',\n",
       " 'contributors_enabled',\n",
       " 'time_zone',\n",
       " 'profile_sidebar_fill_color',\n",
       " 'profile_background_tile',\n",
       " 'follow_request_sent',\n",
       " 'is_translator',\n",
       " 'profile_image_url_https',\n",
       " 'profile_image_url',\n",
       " 'created_at',\n",
       " 'profile_background_image_url',\n",
       " 'id',\n",
       " 'profile_background_color',\n",
       " 'profile_link_color',\n",
       " 'screen_name',\n",
       " 'profile_background_image_url_https',\n",
       " 'notifications',\n",
       " 'default_profile_image',\n",
       " 'entities',\n",
       " 'profile_text_color',\n",
       " 'name',\n",
       " 'geo_enabled',\n",
       " 'profile_sidebar_border_color',\n",
       " 'friends_count',\n",
       " 'utc_offset',\n",
       " 'statuses_count',\n",
       " 'url',\n",
       " 'favourites_count',\n",
       " 'profile_use_background_image',\n",
       " 'has_extended_profile',\n",
       " 'is_translation_enabled',\n",
       " 'profile_banner_url',\n",
       " 'listed_count',\n",
       " 'following',\n",
       " 'followers_count']"
      ]
     },
     "execution_count": 22,
     "metadata": {},
     "output_type": "execute_result"
    }
   ],
   "source": [
    "[ky for ky in following[0][0].keys()]"
   ]
  },
  {
   "cell_type": "code",
   "execution_count": null,
   "metadata": {
    "collapsed": true
   },
   "outputs": [],
   "source": []
  }
 ],
 "metadata": {
  "kernelspec": {
   "display_name": "Python 3",
   "language": "python",
   "name": "python3"
  },
  "language_info": {
   "codemirror_mode": {
    "name": "ipython",
    "version": 3
   },
   "file_extension": ".py",
   "mimetype": "text/x-python",
   "name": "python",
   "nbconvert_exporter": "python",
   "pygments_lexer": "ipython3",
   "version": "3.5.1"
  }
 },
 "nbformat": 4,
 "nbformat_minor": 0
}
